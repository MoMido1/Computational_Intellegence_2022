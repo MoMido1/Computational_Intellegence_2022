{
 "cells": [
  {
   "attachments": {},
   "cell_type": "markdown",
   "metadata": {},
   "source": [
    "# LAB3 POLICY Search\n",
    "\n",
    "## Task\n",
    "\n",
    "Write agents able to play [*Nim*](https://en.wikipedia.org/wiki/Nim), with an arbitrary number of rows and an upper bound $k$ on the number of objects that can be removed in a turn (a.k.a., *subtraction game*).\n",
    "\n",
    "The player **taking the last object wins**.\n",
    "\n",
    "* Task3.1: An agent using fixed rules based on *nim-sum* (i.e., an *expert system*)\n",
    "* Task3.2: An agent using evolved rules\n",
    "* Task3.3: An agent using minmax\n",
    "* Task3.4: An agent using reinforcement learning\n"
   ]
  },
  {
   "cell_type": "code",
   "execution_count": 2036,
   "metadata": {},
   "outputs": [],
   "source": [
    "import logging\n",
    "from itertools import permutations\n",
    "from collections import namedtuple\n",
    "import random\n",
    "# from typing import Callable\n",
    "from copy import deepcopy,copy\n",
    "from functools import reduce\n",
    "# from operator import xor"
   ]
  },
  {
   "cell_type": "code",
   "execution_count": 2037,
   "metadata": {},
   "outputs": [],
   "source": [
    "Nimply = namedtuple(\"Nimply\", \"row, num_objects\")"
   ]
  },
  {
   "cell_type": "code",
   "execution_count": 2038,
   "metadata": {},
   "outputs": [],
   "source": [
    "class Nim:\n",
    "    def __init__(self, num_rows: int, k: int = None) -> None:\n",
    "        self.num_rows = num_rows\n",
    "        self._rows = [i * 2 + 1 for i in range(num_rows)] # here we are putting the number of sticks in a single row \n",
    "        # like a list -> [1,3,5,7,....]\n",
    "        self._k = k\n",
    "\n",
    "    def __bool__(self):\n",
    "        return sum(self._rows) > 0\n",
    "\n",
    "    def __str__(self):\n",
    "        return \"<\" + \" \".join(str(_) for _ in self._rows) + \">\"\n",
    "\n",
    "    # @property\n",
    "    # def rows(self) -> tuple:\n",
    "    #     return tuple(self._rows)\n",
    "\n",
    "    # @property\n",
    "    # def k(self) -> int:\n",
    "    #     return self._k\n",
    "\n",
    "    def play(self, ply: Nimply) -> None:\n",
    "        row, num_objects = ply\n",
    "        assert self._rows[row] >= num_objects\n",
    "        assert self._k is None or num_objects <= self._k\n",
    "        self._rows[row] -= num_objects\n",
    "\n",
    "    def possible_plays (self) -> list:\n",
    "        possiblePlays=[]\n",
    "        th = 0\n",
    "        if self._k != None:\n",
    "            th = self._k\n",
    "        else:\n",
    "            th = max(self._rows)\n",
    "            \n",
    "        # for r in range(self.num_rows):\n",
    "        #     print('r is '+str(r))\n",
    "        #     for p in range(self._rows[r]):\n",
    "        #         if p+1 <=th:\n",
    "        #             possiblePlays.append(Nimply(r,p+1))\n",
    "        possiblePlays.append([Nimply(r,p+1) for r in range(self.num_rows) for p in range(self._rows[r]) if p+1 <= th or not self._rows ])\n",
    "        # print([Nimply(r,p+1) for r in range(self.num_rows) for p in range(self._rows[r]) if p+1 <= th] )\n",
    "        return possiblePlays[0]\n",
    "        "
   ]
  },
  {
   "attachments": {},
   "cell_type": "markdown",
   "metadata": {},
   "source": [
    "## Task 3.1 Expert System"
   ]
  },
  {
   "cell_type": "code",
   "execution_count": 2039,
   "metadata": {},
   "outputs": [],
   "source": [
    "def pure_random(state: Nim) -> Nimply:\n",
    "    row = random.choice([r for r, c in enumerate(state._rows) if c > 0]) \n",
    "    # here we are choosing a random index only if the row of that index has sticks not empty\n",
    "    num_objects = random.randint(1, state._rows[row])# now we are selecting a random number of sticks from the selected row\n",
    "    # print((row, num_objects))\n",
    "    return Nimply(row, num_objects)"
   ]
  },
  {
   "cell_type": "code",
   "execution_count": 2040,
   "metadata": {},
   "outputs": [
    {
     "name": "stdout",
     "output_type": "stream",
     "text": [
      "status: After player 0 -> <1 3 1 7>\n",
      "status: After player 1 -> <1 3 0 7>\n",
      "status: After player 0 -> <1 3 0 2>\n",
      "status: After player 1 -> <1 1 0 2>\n",
      "status: After player 0 -> <1 1 0 0>\n",
      "status: After player 1 -> <1 0 0 0>\n",
      "status: After player 0 -> <0 0 0 0>\n",
      "status: Player 0 won!\n"
     ]
    }
   ],
   "source": [
    "Game = Nim(4)\n",
    "def calculate_nim_sum(rows):\n",
    "    return reduce(lambda x, y: x ^ y, rows)\n",
    "\n",
    "\n",
    "def expertSystem (Game: Nim) -> Nimply:\n",
    "    best_ply = list()\n",
    "    for i in Game.possible_plays():\n",
    "        tmp = deepcopy(Game)\n",
    "        tmp.play(i)\n",
    "        best_ply.append((i,calculate_nim_sum(tmp._rows)))\n",
    "    best_ply = sorted(best_ply,key= lambda x :x[1],reverse=False)\n",
    "    retply=random.choice([num[0] for num in best_ply if num[1] == 0]) if best_ply[0][1]==0 else random.choice(best_ply)[0]\n",
    "    return retply\n",
    "\n",
    "\n",
    "strategy=[expertSystem,pure_random]\n",
    "\n",
    "player = 0\n",
    "while Game:\n",
    "    ply = strategy[player](Game)\n",
    "    # print(Game)\n",
    "    Game.play(ply)\n",
    "    print(f\"status: After player {player} -> {Game}\")\n",
    "    player = 1 - player\n",
    "winner = 1 - player\n",
    "print(f\"status: Player {winner} won!\")\n",
    "# print(ply) "
   ]
  },
  {
   "attachments": {},
   "cell_type": "markdown",
   "metadata": {},
   "source": [
    "## Task 3.2 : Evolved Rules \n",
    "### Base-Nim Strategy "
   ]
  },
  {
   "cell_type": "code",
   "execution_count": 2041,
   "metadata": {},
   "outputs": [],
   "source": [
    "def decimal_to_base3(decimal_number):\n",
    "    if decimal_number == 0:\n",
    "        return '0'\n",
    "\n",
    "    base3_digits = []\n",
    "    while decimal_number > 0:\n",
    "        decimal_number, remainder = divmod(decimal_number, 3)\n",
    "        base3_digits.append(str(remainder))\n",
    "\n",
    "    base3_number = ''.join(base3_digits[::-1])\n",
    "    return base3_number\n",
    "\n",
    "def convert_to_base_nim(rows):\n",
    "    base_nim_sizes = [int(decimal_to_base3(num)) for num in rows]\n",
    "    xor_sum = 0\n",
    "    for number in base_nim_sizes:\n",
    "        xor_sum ^= number\n",
    "    return xor_sum\n"
   ]
  },
  {
   "cell_type": "code",
   "execution_count": 2042,
   "metadata": {},
   "outputs": [
    {
     "name": "stdout",
     "output_type": "stream",
     "text": [
      "101\n"
     ]
    }
   ],
   "source": [
    "decimal_number = 10\n",
    "base3_number = decimal_to_base3(decimal_number)\n",
    "print(base3_number)\n"
   ]
  },
  {
   "cell_type": "code",
   "execution_count": 2043,
   "metadata": {},
   "outputs": [
    {
     "name": "stdout",
     "output_type": "stream",
     "text": [
      "[Nimply(row=0, num_objects=1), Nimply(row=1, num_objects=1), Nimply(row=1, num_objects=2), Nimply(row=1, num_objects=3), Nimply(row=2, num_objects=1), Nimply(row=2, num_objects=2)]\n"
     ]
    }
   ],
   "source": [
    "g = Nim(3)\n",
    "g._rows=[1,3,2]\n",
    "print([i for i in g.possible_plays()])\n",
    "\n"
   ]
  },
  {
   "cell_type": "code",
   "execution_count": 2044,
   "metadata": {},
   "outputs": [],
   "source": [
    "\n",
    "def Base_Nim(Game: Nim) -> Nimply:\n",
    "    best_ply = list()\n",
    "   \n",
    "    for i in Game.possible_plays():\n",
    "        tmp = deepcopy(Game)\n",
    "        tmp.play(i)\n",
    "        best_ply.append((i,convert_to_base_nim(tmp._rows)))\n",
    "    best_ply = sorted(best_ply,key= lambda x :x[1],reverse=False)\n",
    "    retply=random.choice([num[0] for num in best_ply if num[1] != 0]) if best_ply[0][1]!=0 else random.choice(best_ply)[0]\n",
    "    return retply"
   ]
  },
  {
   "cell_type": "code",
   "execution_count": 2045,
   "metadata": {},
   "outputs": [
    {
     "name": "stdout",
     "output_type": "stream",
     "text": [
      "status: After player 0 -> <1 3 3 7>\n",
      "status: After player 1 -> <0 3 3 7>\n",
      "status: After player 0 -> <0 1 3 7>\n",
      "status: After player 1 -> <0 1 2 7>\n",
      "status: After player 0 -> <0 1 2 6>\n",
      "status: After player 1 -> <0 1 2 1>\n",
      "status: After player 0 -> <0 1 0 1>\n",
      "status: After player 1 -> <0 1 0 0>\n",
      "status: After player 0 -> <0 0 0 0>\n",
      "status: Player 0 won!\n"
     ]
    }
   ],
   "source": [
    "Game = Nim(4)\n",
    "    \n",
    "strategy=[pure_random,Base_Nim]\n",
    "\n",
    "player = 0\n",
    "while Game:\n",
    "    ply = strategy[player](Game)\n",
    "    Game.play(ply)\n",
    "    print(f\"status: After player {player} -> {Game}\")\n",
    "    player = 1 - player\n",
    "winner = 1 - player\n",
    "print(f\"status: Player {winner} won!\")"
   ]
  },
  {
   "attachments": {},
   "cell_type": "markdown",
   "metadata": {},
   "source": [
    "## Task 3.3: minmax"
   ]
  },
  {
   "cell_type": "code",
   "execution_count": 2046,
   "metadata": {},
   "outputs": [],
   "source": [
    "def eval_terminal(Game):\n",
    "    return sum(Game._rows)\n",
    "    "
   ]
  },
  {
   "cell_type": "code",
   "execution_count": 2047,
   "metadata": {},
   "outputs": [],
   "source": [
    "def minmax(Game : Nim) -> Nimply:\n",
    "    \n",
    "    val = eval_terminal(Game)\n",
    "    possible =  Game.possible_plays()\n",
    "    if val == 0 or len(possible) == 0 :\n",
    "       return None,val\n",
    "    \n",
    "    evaluations = list()\n",
    "    for ply in Game.possible_plays():\n",
    "        tmp = deepcopy(Game)\n",
    "        tmp.play(ply)\n",
    "        _,val = minmax(tmp)\n",
    "        evaluations.append((ply, -val))\n",
    "        # if val == 0:\n",
    "        #     break\n",
    "    s = random.choice([num[0] for num in evaluations if num[1] == 0]) if evaluations[0][1]== 0 else list()\n",
    "    return s if len(s)!=0 else max(evaluations,key= lambda k:k[1])[0]\n"
   ]
  },
  {
   "cell_type": "code",
   "execution_count": 2048,
   "metadata": {},
   "outputs": [
    {
     "name": "stdout",
     "output_type": "stream",
     "text": [
      "status: After player 0 -> <1 3 2>\n",
      "status: After player 1 -> <0 3 2>\n",
      "status: After player 0 -> <0 2 2>\n",
      "status: After player 1 -> <0 1 2>\n",
      "status: After player 0 -> <0 1 1>\n",
      "status: After player 1 -> <0 0 1>\n",
      "status: After player 0 -> <0 0 0>\n",
      "status: Player 0 won!\n"
     ]
    }
   ],
   "source": [
    "Game = Nim(3)\n",
    "strategy=[expertSystem,minmax]\n",
    "\n",
    "player = 0\n",
    "while Game:\n",
    "    ply = strategy[player](Game)\n",
    "    Game.play(ply)\n",
    "    print(f\"status: After player {player} -> {Game}\")\n",
    "    player = 1 - player\n",
    "winner = 1 - player\n",
    "print(f\"status: Player {winner} won!\")\n"
   ]
  },
  {
   "attachments": {},
   "cell_type": "markdown",
   "metadata": {},
   "source": [
    "## Task 3.4 : Reinforcement Learning"
   ]
  },
  {
   "cell_type": "code",
   "execution_count": null,
   "metadata": {},
   "outputs": [],
   "source": []
  },
  {
   "cell_type": "code",
   "execution_count": null,
   "metadata": {},
   "outputs": [],
   "source": []
  }
 ],
 "metadata": {
  "kernelspec": {
   "display_name": "nim-game-wVlq30Hj-py3.10",
   "language": "python",
   "name": "python3"
  },
  "language_info": {
   "codemirror_mode": {
    "name": "ipython",
    "version": 3
   },
   "file_extension": ".py",
   "mimetype": "text/x-python",
   "name": "python",
   "nbconvert_exporter": "python",
   "pygments_lexer": "ipython3",
   "version": "3.10.3"
  },
  "orig_nbformat": 4
 },
 "nbformat": 4,
 "nbformat_minor": 2
}
