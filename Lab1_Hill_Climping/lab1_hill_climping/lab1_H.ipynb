{
 "cells": [
  {
   "attachments": {},
   "cell_type": "markdown",
   "metadata": {},
   "source": [
    "# Lab2- setCovering Problem with HillClimping Techniques\n",
    "\n",
    "proceeding with the set covering problem but using Hill Climbing Techniques:"
   ]
  },
  {
   "cell_type": "code",
   "execution_count": 201,
   "metadata": {},
   "outputs": [],
   "source": [
    "import random \n",
    "import logging\n",
    "import collections"
   ]
  },
  {
   "cell_type": "code",
   "execution_count": 202,
   "metadata": {},
   "outputs": [],
   "source": [
    "def problem(N, seed=None):\n",
    "    random.seed(seed)\n",
    "    array = [\n",
    "        list(set(random.randint(0, N - 1) for n in range(random.randint(N // 5, N // 2))))\n",
    "        for n in range(random.randint(N, N * 5))\n",
    "    ]\n",
    "    ranked_list = [(sorted(x),len(x)) for x in array]\n",
    "    return ranked_list"
   ]
  },
  {
   "attachments": {},
   "cell_type": "markdown",
   "metadata": {},
   "source": [
    "\n",
    "## 1- Hill Climping: -"
   ]
  },
  {
   "cell_type": "code",
   "execution_count": 203,
   "metadata": {},
   "outputs": [],
   "source": [
    "def better(old,new,discovered_Nums):\n",
    "    if len(new)< len(old):\n",
    "        # w is less for sure so we select the new node\n",
    "        return True\n",
    "    elif len(new) >= len(old):\n",
    "        newCover = len(collections.Counter(new) - collections.Counter(discovered_Nums))\n",
    "        oldCover = len(collections.Counter(old) - collections.Counter(discovered_Nums))\n",
    "        if newCover > oldCover:\n",
    "            return True\n",
    "        else: \n",
    "            return False\n",
    "    else:\n",
    "        return False\n",
    "    \n",
    "def bestNode(betterNodes,discovered_Nums):\n",
    "    best= betterNodes[0]\n",
    "    for i in range(len(betterNodes)):\n",
    "        if len(best)>= len(betterNodes[i]):\n",
    "            bestCover = len(collections.Counter(best) - collections.Counter(discovered_Nums))\n",
    "            nodeCover = len(collections.Counter(betterNodes[i]) - collections.Counter(discovered_Nums))\n",
    "            if nodeCover >= bestCover:\n",
    "                best = betterNodes[i]\n",
    "        else:\n",
    "            bestCover = len(collections.Counter(best) - collections.Counter(discovered_Nums))\n",
    "            nodeCover = len(collections.Counter(betterNodes[i]) - collections.Counter(discovered_Nums))\n",
    "            if nodeCover == bestCover:\n",
    "                best = betterNodes[i]\n",
    "    return best\n"
   ]
  },
  {
   "cell_type": "code",
   "execution_count": 207,
   "metadata": {},
   "outputs": [],
   "source": [
    "def Tweak(state,nodes,discovered_Nums,N,mtype=\"fi\"):\n",
    "    # here i'm trying to select the perfect state to add and update the discovered_Nums so until now we are exploiting \n",
    "    stateNewNums = collections.Counter(state) - collections.Counter(discovered_Nums)\n",
    "    # the stateNewNums are the nums that are not in the discovered nums yet\n",
    "    stateOldNums = list((collections.Counter(state)- stateNewNums).keys())\n",
    "    initstateOldNums = len(stateOldNums)\n",
    "    nwState = state.copy()\n",
    "    \n",
    "    Nums = list(range(N))\n",
    "    remNumstoCover_notAlready_Instate =list((collections.Counter(Nums) - collections.Counter(discovered_Nums)- collections.Counter(state)).keys())\n",
    "    if len(remNumstoCover_notAlready_Instate)==0:\n",
    "        return state\n",
    "    rn = random.choice(remNumstoCover_notAlready_Instate)\n",
    "    flag =1\n",
    "    numtoRm= int()\n",
    "    betterNodes = list()\n",
    "    bestOfNodes = list()\n",
    "    firstSolution= list()\n",
    "\n",
    "    while len(remNumstoCover_notAlready_Instate) != 0:\n",
    "        if initstateOldNums == 0 :\n",
    "            # so here all the state numbers are new \n",
    "            nwState.append(rn)\n",
    "            if tuple([sorted(nwState),len(nwState)]) in nodes:\n",
    "                if (better(state,nwState,discovered_Nums)) & (mtype == \"ss\"):\n",
    "                    # add to betterNodes\n",
    "                    betterNodes.append(nwState)\n",
    "                    nwState= state.copy()\n",
    "                    remNumstoCover_notAlready_Instate.remove(rn)\n",
    "                    if len(remNumstoCover_notAlready_Instate) == 0:\n",
    "                    # here we didn't find any neighbour\n",
    "                        break \n",
    "                    rn =random.choice(remNumstoCover_notAlready_Instate)\n",
    "                    continue\n",
    "                    \n",
    "                elif (better(state,nwState,discovered_Nums)) & (mtype == \"fi\"):\n",
    "                    #add to the first solution and return it\n",
    "                    firstSolution = nwState\n",
    "                    break\n",
    "                    \n",
    "            else:\n",
    "                nwState= state.copy()\n",
    "                remNumstoCover_notAlready_Instate.remove(rn)\n",
    "                if len(remNumstoCover_notAlready_Instate) == 0:\n",
    "                    # here we didn't find any neighbour\n",
    "                    break \n",
    "                rn =random.choice(remNumstoCover_notAlready_Instate)\n",
    "        else:\n",
    "            if flag:\n",
    "                numtoRm =random.choice(stateOldNums)\n",
    "                stateOldNums.remove(numtoRm)\n",
    "                nwState.remove(numtoRm)\n",
    "                flag = 0\n",
    "            \n",
    "            nwState.append(rn)\n",
    "            if tuple([sorted(nwState),len(nwState)]) in nodes:\n",
    "                if (better(state,nwState,discovered_Nums))& (mtype == \"ss\"):\n",
    "                    # add to betterNodes\n",
    "                    betterNodes.append(nwState)\n",
    "                    nwState= state.copy()\n",
    "                    remNumstoCover_notAlready_Instate.remove(rn)\n",
    "                    if len(remNumstoCover_notAlready_Instate) == 0:\n",
    "                    # here we didn't find any neighbour that exist in our search problem\n",
    "                        break \n",
    "                    rn =random.choice(remNumstoCover_notAlready_Instate)\n",
    "                    continue\n",
    "                    \n",
    "                elif (better(state,nwState,discovered_Nums))& (mtype == \"fi\"):\n",
    "                    #add to the first solution and return it\n",
    "                    firstSolution = nwState\n",
    "                    break\n",
    "                \n",
    "            else:\n",
    "                nwState.remove(rn)\n",
    "                remNumstoCover_notAlready_Instate.remove(rn)\n",
    "                if len(remNumstoCover_notAlready_Instate) == 0:\n",
    "                    flag =1\n",
    "                    remNumstoCover_notAlready_Instate =list((collections.Counter(Nums) - collections.Counter(discovered_Nums)- collections.Counter(state)).keys())\n",
    "                    if len(stateOldNums) == 0 :\n",
    "                        break \n",
    "                rn =random.choice(remNumstoCover_notAlready_Instate)\n",
    "\n",
    "    if len(betterNodes) !=0:\n",
    "        bestOfNodes= bestNode(betterNodes,discovered_Nums)\n",
    "    else:\n",
    "        bestOfNodes = state\n",
    "\n",
    "    if mtype==\"fi\":\n",
    "        return firstSolution if len(firstSolution)!=0 else state\n",
    "    else:\n",
    "        return bestOfNodes    \n"
   ]
  },
  {
   "cell_type": "code",
   "execution_count": null,
   "metadata": {},
   "outputs": [],
   "source": [
    "N = 100\n",
    "nodes = problem(N,42)\n",
    "print(nodes)\n",
    "Tweak(state=[8,2,7,6],nodes=nodes,discovered_Nums=[8,2,6],N=N)"
   ]
  },
  {
   "cell_type": "code",
   "execution_count": 210,
   "metadata": {},
   "outputs": [],
   "source": [
    "# first improvement => fi\n",
    "# Steepest-step => ss\n",
    "def Hill_Climping_Search(nodes,N,seed =42,mtype =\"ss\"):\n",
    "      random.seed(seed)\n",
    "      discovered_Nums=list()\n",
    "      st_Index = random.randint(0, len(nodes)-1)\n",
    "      st_node = nodes[st_Index][0]\n",
    "      solution_nodes = list()\n",
    "   \n",
    "      for _ in range(len(nodes)):\n",
    "            nwnode= Tweak(state=st_node,nodes=nodes,\n",
    "                  discovered_Nums=discovered_Nums,\n",
    "                  N=N,\n",
    "                  mtype=mtype)\n",
    "            discovered_Nums.extend(list((collections.Counter(nwnode)-collections.Counter(discovered_Nums)).keys()))\n",
    "            solution_nodes.append(nwnode)\n",
    "            \n",
    "            if len(discovered_Nums) == N:\n",
    "                  break\n",
    "            \n",
    "            nodes.remove(tuple([sorted(nwnode),len(nwnode)]))\n",
    "            st_Index = random.randint(0, len(nodes)-1)\n",
    "            st_node = nodes[st_Index][0]\n",
    "      weight = sum(len(x) for x in solution_nodes)\n",
    "      print(f\"For N = {N} => the list has a weight W = {weight} and we used {len(solution_nodes)} nodes to cover it\")\n",
    "      "
   ]
  },
  {
   "cell_type": "code",
   "execution_count": 211,
   "metadata": {},
   "outputs": [
    {
     "name": "stdout",
     "output_type": "stream",
     "text": [
      "---------Hill Climping Algorithm------------\n",
      "For N = 5 => the list has a weight W = 5 and we used 3 nodes to cover it\n",
      "For N = 10 => the list has a weight W = 24 and we used 7 nodes to cover it\n",
      "For N = 20 => the list has a weight W = 59 and we used 9 nodes to cover it\n",
      "For N = 100 => the list has a weight W = 347 and we used 14 nodes to cover it\n",
      "For N = 500 => the list has a weight W = 2991 and we used 20 nodes to cover it\n",
      "For N = 1000 => the list has a weight W = 5797 and we used 19 nodes to cover it\n"
     ]
    }
   ],
   "source": [
    "print(\"---------Hill Climping Algorithm------------\") \n",
    "for N in [5, 10, 20, 100, 500, 1000]:\n",
    "    nodes = problem(N,42)\n",
    "    Hill_Climping_Search(nodes,N)"
   ]
  }
 ],
 "metadata": {
  "kernelspec": {
   "display_name": "lab1-hill-climping-BIZSIsXI-py3.10",
   "language": "python",
   "name": "python3"
  },
  "language_info": {
   "codemirror_mode": {
    "name": "ipython",
    "version": 3
   },
   "file_extension": ".py",
   "mimetype": "text/x-python",
   "name": "python",
   "nbconvert_exporter": "python",
   "pygments_lexer": "ipython3",
   "version": "3.10.3"
  },
  "orig_nbformat": 4
 },
 "nbformat": 4,
 "nbformat_minor": 2
}
