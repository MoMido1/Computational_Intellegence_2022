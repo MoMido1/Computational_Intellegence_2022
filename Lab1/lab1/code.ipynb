{
 "cells": [
  {
   "cell_type": "code",
   "execution_count": 1,
   "metadata": {},
   "outputs": [],
   "source": [
    "import random\n",
    "import collections"
   ]
  },
  {
   "cell_type": "code",
   "execution_count": 2,
   "metadata": {},
   "outputs": [],
   "source": [
    "def problem(N, seed=None):\n",
    "    random.seed(seed)\n",
    "    return [\n",
    "        list(set(random.randint(0, N - 1) for n in range(random.randint(N // 5, N // 2))))\n",
    "        for n in range(random.randint(N, N * 5))\n",
    "    ]"
   ]
  },
  {
   "cell_type": "code",
   "execution_count": 3,
   "metadata": {},
   "outputs": [],
   "source": [
    "def Breadth_First (N,lst):\n",
    "#Breadth first aproach\n",
    "    Nums = list(range(N))\n",
    "    Covered_Nums = list()\n",
    "    selected_Lists = list()\n",
    "    weight=int()\n",
    "\n",
    "    #the rank here could be considered as the cost \n",
    "    ranked_list = ((x,len(x)) for x in lst)\n",
    "    arranged_list = sorted(list(ranked_list), key= lambda x: x[1], reverse= False)\n",
    "\n",
    "    f=0\n",
    "    for e in arranged_list:\n",
    "        for i in e[0]:\n",
    "            if i in Covered_Nums:\n",
    "                continue\n",
    "            else:\n",
    "                Covered_Nums.append(i)\n",
    "                f=1\n",
    "        if f==1 : \n",
    "            selected_Lists.append(e[0])\n",
    "            f=0\n",
    "        if sorted(collections.Counter(Nums)) == sorted(collections.Counter(Covered_Nums)):\n",
    "            break\n",
    "\n",
    "    weight = sum(len(x) for x in selected_Lists)\n",
    "    print(f\"For N = {N} => the list has a weight W = {weight} and we used {len(selected_Lists)} nodes to cover it\")\n"
   ]
  },
  {
   "cell_type": "code",
   "execution_count": 4,
   "metadata": {},
   "outputs": [],
   "source": [
    "def depthFirst (N,lst):\n",
    "    #this is a depth first aproach\n",
    "    Nums = list(range(N))\n",
    "    Covered_Nums = list()\n",
    "    selected_Lists = list()\n",
    "    weight=int()\n",
    "\n",
    "    ranked_list = ((x,len(x)) for x in lst)\n",
    "    arranged_list = sorted(list(ranked_list), key= lambda x: x[1], reverse= False)\n",
    "    maxrank =arranged_list[-1][1]\n",
    "    \n",
    "    depthFirst_list = list()\n",
    "    #creating the depth first list\n",
    "    while len(arranged_list) :\n",
    "        for i in range(maxrank+1):\n",
    "            for j in range(len(arranged_list)):\n",
    "                if arranged_list[j][1] == i:\n",
    "                    depthFirst_list.append(arranged_list[j])\n",
    "                    arranged_list.pop(j)\n",
    "                    break\n",
    "    f=0\n",
    "    for e in depthFirst_list:\n",
    "        for i in e[0]:\n",
    "            if i in Covered_Nums:\n",
    "                continue\n",
    "            else:\n",
    "                Covered_Nums.append(i)\n",
    "                f=1\n",
    "        if f==1 : \n",
    "            selected_Lists.append(e[0])\n",
    "            f=0\n",
    "        if sorted(collections.Counter(Nums)) == sorted(collections.Counter(Covered_Nums)):\n",
    "            break\n",
    "\n",
    "    weight = sum(len(x) for x in selected_Lists)\n",
    "    print(f\"For N = {N} => the list has a weight W = {weight} and we used {len(selected_Lists)} nodes to cover it\")\n",
    "\n"
   ]
  },
  {
   "cell_type": "code",
   "execution_count": 5,
   "metadata": {},
   "outputs": [],
   "source": [
    "def greedyBestFirst (N,lst):\n",
    "    #this is a greedy best first aproach\n",
    "    Nums = list(range(N))\n",
    "    Covered_Nums = list()\n",
    "    selected_Lists = list()\n",
    "    weight=int()\n",
    "\n",
    "    ranked_list = ((x,len(x)) for x in lst)\n",
    "    arranged_list = sorted(list(ranked_list), key= lambda x: x[1], reverse= True)\n",
    "    \n",
    "    while collections.Counter(Nums) != collections.Counter(Covered_Nums):\n",
    "        f=0\n",
    "        e = arranged_list[0]\n",
    "        for i in e[0]:\n",
    "            if i in Covered_Nums:\n",
    "                continue\n",
    "            else:\n",
    "                Covered_Nums.append(i)\n",
    "                f=1\n",
    "        if f==1 : \n",
    "            selected_Lists.append(e[0])\n",
    "            f=0\n",
    "        if sorted(collections.Counter(Nums)) == sorted(collections.Counter(Covered_Nums)):\n",
    "            #we found a solution\n",
    "            break\n",
    "\n",
    "        for i in range(len(arranged_list)):\n",
    "            #changing the tuple to list to adjust it\n",
    "            element = list(arranged_list[i])\n",
    "            element[1] = len(list(set(arranged_list[i][0]).difference(Covered_Nums)))\n",
    "            arranged_list[i]= tuple(element)\n",
    "        arranged_list = sorted(arranged_list, key= lambda x: x[1], reverse= True)\n",
    "\n",
    "    weight = sum(len(x) for x in selected_Lists)\n",
    "    print(f\"For N = {N} => the list has a weight W = {weight} and we used {len(selected_Lists)} nodes to cover it\")\n"
   ]
  },
  {
   "cell_type": "code",
   "execution_count": 7,
   "metadata": {},
   "outputs": [
    {
     "name": "stdout",
     "output_type": "stream",
     "text": [
      "---------Breadth first Algorithm------------\n",
      "For N = 5 => the list has a weight W = 5 and we used 5 nodes to cover it\n",
      "For N = 10 => the list has a weight W = 13 and we used 7 nodes to cover it\n",
      "For N = 20 => the list has a weight W = 46 and we used 12 nodes to cover it\n",
      "For N = 100 => the list has a weight W = 332 and we used 19 nodes to cover it\n",
      "For N = 500 => the list has a weight W = 2162 and we used 24 nodes to cover it\n",
      "For N = 1000 => the list has a weight W = 4652 and we used 26 nodes to cover it\n",
      "\n",
      "---------Depth first Algorithm------------\n",
      "For N = 5 => the list has a weight W = 6 and we used 4 nodes to cover it\n",
      "For N = 10 => the list has a weight W = 18 and we used 6 nodes to cover it\n",
      "For N = 20 => the list has a weight W = 47 and we used 8 nodes to cover it\n",
      "For N = 100 => the list has a weight W = 335 and we used 14 nodes to cover it\n",
      "For N = 500 => the list has a weight W = 2392 and we used 24 nodes to cover it\n",
      "For N = 1000 => the list has a weight W = 5307 and we used 28 nodes to cover it\n",
      "\n",
      "---------Greedy best-first Algorithm------------\n",
      "For N = 5 => the list has a weight W = 6 and we used 3 nodes to cover it\n",
      "For N = 10 => the list has a weight W = 13 and we used 3 nodes to cover it\n",
      "For N = 20 => the list has a weight W = 32 and we used 4 nodes to cover it\n",
      "For N = 100 => the list has a weight W = 191 and we used 5 nodes to cover it\n",
      "For N = 500 => the list has a weight W = 1375 and we used 7 nodes to cover it\n",
      "For N = 1000 => the list has a weight W = 3087 and we used 8 nodes to cover it\n"
     ]
    }
   ],
   "source": [
    "print(\"---------Breadth first Algorithm------------\") \n",
    "for N in [5, 10, 20, 100, 500, 1000]:\n",
    "    Breadth_First(N,problem(N,42))\n",
    "\n",
    "print(\"\\n---------Depth first Algorithm------------\")\n",
    "for N in [5, 10, 20, 100, 500, 1000]:\n",
    "    depthFirst(N,problem(N,42))\n",
    "    \n",
    "print(\"\\n---------Greedy best-first Algorithm------------\")\n",
    "for N in [5, 10, 20, 100, 500, 1000]:\n",
    "    greedyBestFirst(N,problem(N,42))"
   ]
  }
 ],
 "metadata": {
  "kernelspec": {
   "display_name": "Python 3.10.3 ('lab1-Dg4XFjZJ-py3.10')",
   "language": "python",
   "name": "python3"
  },
  "language_info": {
   "codemirror_mode": {
    "name": "ipython",
    "version": 3
   },
   "file_extension": ".py",
   "mimetype": "text/x-python",
   "name": "python",
   "nbconvert_exporter": "python",
   "pygments_lexer": "ipython3",
   "version": "3.10.3"
  },
  "orig_nbformat": 4,
  "vscode": {
   "interpreter": {
    "hash": "788e965175a6a78549df9403a5f8061a14af37a17adbc38a0df6abc8fa041910"
   }
  }
 },
 "nbformat": 4,
 "nbformat_minor": 2
}
