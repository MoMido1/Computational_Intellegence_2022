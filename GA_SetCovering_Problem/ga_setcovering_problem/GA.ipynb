{
 "cells": [
  {
   "attachments": {},
   "cell_type": "markdown",
   "metadata": {},
   "source": [
    "# Genetic Algorithm for Set Covering Problem"
   ]
  },
  {
   "cell_type": "code",
   "execution_count": 617,
   "metadata": {},
   "outputs": [],
   "source": [
    "import random\n",
    "import logging\n",
    "# import collections\n",
    "from collections import namedtuple\n",
    "import numpy as np\n",
    "import math"
   ]
  },
  {
   "cell_type": "code",
   "execution_count": 618,
   "metadata": {},
   "outputs": [],
   "source": [
    "logging.getLogger().setLevel(logging.INFO)"
   ]
  },
  {
   "cell_type": "code",
   "execution_count": 619,
   "metadata": {},
   "outputs": [],
   "source": [
    "PROBLEM_SIZE = 5\n",
    "POPULATION_SIZE = random.randint(PROBLEM_SIZE, PROBLEM_SIZE * 5)\n",
    "OFFSPRING_SIZE = math.ceil(0.1* POPULATION_SIZE)\n",
    "# we decided to make the OFFSpring number to be a ratio of the number of population and not a fixed number but a fixed ratio\n",
    "\n",
    "def problem(N, seed=None):\n",
    "    random.seed(seed)\n",
    "    array = [\n",
    "        list(set(random.randint(0, N - 1) for n in range(random.randint(N // 5, N // 2))))\n",
    "        for n in range(POPULATION_SIZE)\n",
    "    ]\n",
    "    return array"
   ]
  },
  {
   "cell_type": "code",
   "execution_count": 620,
   "metadata": {},
   "outputs": [],
   "source": [
    "Individual = namedtuple(\"Individual\",[\"genome\", \"fitness\"])\n",
    "\n",
    "def fitness(genome):\n",
    "    return sum(genome)/len(genome)\n",
    "\n",
    "def problem_Encoding(array,N):\n",
    "    population = list()\n",
    "    for l in array:\n",
    "        genome = tuple(1 if x in l else 0 for x in range(N))\n",
    "        population.append(Individual(genome,fitness(genome)))\n",
    "    return population\n"
   ]
  },
  {
   "cell_type": "code",
   "execution_count": 621,
   "metadata": {},
   "outputs": [],
   "source": [
    "arr = problem(PROBLEM_SIZE,42)\n",
    "population = problem_Encoding(arr,PROBLEM_SIZE)\n"
   ]
  },
  {
   "cell_type": "code",
   "execution_count": 622,
   "metadata": {},
   "outputs": [],
   "source": [
    "def Random_select_parent(population):\n",
    "    t = random.choice(population)\n",
    "    return t\n",
    "\n",
    "def tournament (population,k):\n",
    "    t = random.choices(population, k =k)\n",
    "    return max (t, key = lambda i:i.fitness)\n",
    "\n",
    "def mutation(population):\n",
    "    p = Random_select_parent(population)\n",
    "    n = random.randint(0,len(p.genome)-1) \n",
    "    m = list(p.genome)\n",
    "    m[n] = 1- m[n]\n",
    "    return Individual(tuple(m),fitness(m))\n",
    "\n",
    "def cross_over(population,tournament_size=2):\n",
    "    p1 = tournament(population,tournament_size)\n",
    "    p2 = tournament(population,tournament_size)\n",
    "    cut = random.randint(0,len(p1.genome)-1)\n",
    "    ng = p1.genome[:cut] + p2.genome[cut:]\n",
    "    return Individual(ng,fitness(ng))\n",
    "\n",
    "def Elitism (population,tournament_size=2):\n",
    "    #preserving the best of populations champion that are 0.01 of the population\n",
    "    sortedPopulation = sorted(population,key = lambda i:i.fitness,reverse = True)\n",
    "    cuttingInd = math.ceil(0.01*len(sortedPopulation))\n",
    "    remainingPop = population[cuttingInd:]\n",
    "    return cross_over(remainingPop)\n",
    "\n",
    "#different types of genetic operators\n",
    "GO = [mutation,cross_over,Elitism]\n",
    "PROB = [0.1,0.5,0.4]\n",
    "\n",
    "def get_one_Genetic_Operator():\n",
    "    random_GO = random.choices(GO, PROB)[0]\n",
    "    return random_GO\n",
    "\n"
   ]
  },
  {
   "cell_type": "code",
   "execution_count": 623,
   "metadata": {},
   "outputs": [
    {
     "name": "stderr",
     "output_type": "stream",
     "text": [
      "INFO:root:found solution after 31 generation\n"
     ]
    }
   ],
   "source": [
    "# now we need to select the starting point \n",
    "# this is selecting a specific individuals as parents\n",
    "offSprings = list()\n",
    "generations =0\n",
    "for j in range(1_000_000):\n",
    "    generations+=1\n",
    "    #this problem could be solved if we make high iterations\n",
    "    for i in range(OFFSPRING_SIZE):\n",
    "        selectedGO =get_one_Genetic_Operator()\n",
    "        \n",
    "        o = selectedGO(population)\n",
    "        offSprings.append(o)\n",
    "        \n",
    "    population.extend(offSprings)\n",
    "    population = sorted(population,key = lambda i:i.fitness,reverse = True)\n",
    "    population = population[:POPULATION_SIZE]  \n",
    "    offSprings.clear()\n",
    "    if (population[0].fitness == 1):\n",
    "        logging.info(f\"found solution after {generations} generation\")\n",
    "        break\n",
    "    if (j == 99999):\n",
    "        logging.info(f\"solution not found in 1_000_000 generation your Algorithm is poor\")\n"
   ]
  },
  {
   "cell_type": "code",
   "execution_count": 624,
   "metadata": {},
   "outputs": [
    {
     "data": {
      "text/plain": [
       "1.0"
      ]
     },
     "execution_count": 624,
     "metadata": {},
     "output_type": "execute_result"
    }
   ],
   "source": [
    "population[0].fitness\n",
    "# print(POPULATION_SIZE)\n",
    "# OFFSPRING_SIZE"
   ]
  }
 ],
 "metadata": {
  "kernelspec": {
   "display_name": "ga-setcovering-problem-pGf-_HxL-py3.10",
   "language": "python",
   "name": "python3"
  },
  "language_info": {
   "codemirror_mode": {
    "name": "ipython",
    "version": 3
   },
   "file_extension": ".py",
   "mimetype": "text/x-python",
   "name": "python",
   "nbconvert_exporter": "python",
   "pygments_lexer": "ipython3",
   "version": "3.9.12"
  },
  "orig_nbformat": 4
 },
 "nbformat": 4,
 "nbformat_minor": 2
}
